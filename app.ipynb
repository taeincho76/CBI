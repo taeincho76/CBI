{
 "cells": [
  {
   "attachments": {},
   "cell_type": "markdown",
   "metadata": {},
   "source": [
    "i"
   ]
  },
  {
   "cell_type": "code",
   "execution_count": 14,
   "metadata": {},
   "outputs": [
    {
     "name": "stdout",
     "output_type": "stream",
     "text": [
      "하하하\n"
     ]
    }
   ],
   "source": [
    "l = [1,2,3,4,5]\n",
    "\n",
    "for idx, value in enumerate(l):\n",
    "    print(f\"{idx}번째 값은 {value}\")\n",
    "\n"
   ]
  },
  {
   "cell_type": "code",
   "execution_count": 15,
   "metadata": {},
   "outputs": [
    {
     "name": "stdout",
     "output_type": "stream",
     "text": [
      "0번째 값은 1\n",
      "1번째 값은 2\n",
      "2번째 값은 3\n",
      "3번째 값은 4\n",
      "4번째 값은 5\n"
     ]
    }
   ],
   "source": [
    "l = [1,2,3,4,5]\n",
    "\n",
    "for idx, value in enumerate(l):\n",
    "    print(f\"{idx}번째 값은 {value}\")\n",
    "\n"
   ]
  },
  {
   "cell_type": "code",
   "execution_count": 19,
   "metadata": {},
   "outputs": [
    {
     "ename": "SyntaxError",
     "evalue": "closing parenthesis ']' does not match opening parenthesis '(' (533692138.py, line 1)",
     "output_type": "error",
     "traceback": [
      "\u001b[0;36m  Cell \u001b[0;32mIn[19], line 1\u001b[0;36m\u001b[0m\n\u001b[0;31m    판때기 = [0 for i in range(101]\u001b[0m\n\u001b[0m                               ^\u001b[0m\n\u001b[0;31mSyntaxError\u001b[0m\u001b[0;31m:\u001b[0m closing parenthesis ']' does not match opening parenthesis '('\n"
     ]
    }
   ],
   "source": [
    "# https://www.acmicpc.net/problem/2563/\n",
    "# 판때기 100X100짜리 0으로 채워진 2차원 리스트\n",
    "판때기 = [[0 for i in range(101)] for _ in range(101)]\n",
    "n = int(input())\n",
    "\n",
    "for _ in range(n):\n",
    "    x, y = map(int, input().split())\n",
    "    #입력끝..\n",
    "    #풀이\n",
    "    #10x10영역을 1로 채운다.\n",
    "    #시작좌표. y, x\n",
    "    for i in range(10):\n",
    "        판때기[y+i][x:x+10] = [1] * 10\n",
    "    \n",
    "\n",
    "ans = 0 #1이 몇번 나왔는지 저장할 변수\n",
    "\n",
    "#y축을 1부터 100까지 반복\n",
    "\n",
    "#x축을 1부터 100까지 반복\n",
    "\n",
    "#만약 판때기[y][x]가 1이라면 ans에 1 더한다.\n"
   ]
  },
  {
   "cell_type": "code",
   "execution_count": null,
   "metadata": {},
   "outputs": [],
   "source": []
  }
 ],
 "metadata": {
  "kernelspec": {
   "display_name": "Python 3",
   "language": "python",
   "name": "python3"
  },
  "language_info": {
   "codemirror_mode": {
    "name": "ipython",
    "version": 3
   },
   "file_extension": ".py",
   "mimetype": "text/x-python",
   "name": "python",
   "nbconvert_exporter": "python",
   "pygments_lexer": "ipython3",
   "version": "3.10.4"
  },
  "orig_nbformat": 4
 },
 "nbformat": 4,
 "nbformat_minor": 2
}
